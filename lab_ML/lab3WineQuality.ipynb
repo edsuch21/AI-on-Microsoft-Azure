{
  "cells": [
    {
      "cell_type": "markdown",
      "source": [
        "Problem postawiaonym w tym eksperymencie jest określenie jakości wina w skali od 0 do 10. Dane wzięto ze strony \"http://archive.ics.uci.edu/ml/machine-learning-databases/wine-quality/winequality-white.csv\", a więcej informacji o nich jest pod linkiem http://archive.ics.uci.edu/ml/datasets/Wine+Quality. Pomimo tego, że jest 11 możliwych ocen jakości wina co mogło by sugerować klasyfikcaję 10 klasową, to z uwagi na to, że jakość wina jest wartością samą w sobie (nierozróżnienie win o różnicy jakości równej 1 to mały błąd, ale pomylenie win o jakości równej 8 to ograomny błąd), więc w tym zadaniu należy skorzystać z regresji."
      ],
      "metadata": {
        "nteract": {
          "transient": {
            "deleting": false
          }
        }
      }
    },
    {
      "cell_type": "markdown",
      "source": [
        "Fragmet kodu pobierające dane do docelowego typu danych, na których odbędzie się uczenie - TabularDataset. Jest to azurowy typ danch, do którego można załadować tabelaryczne dane z pliku CSV, TSV, Parquet lub  za pomocą zapytań SQL. NAstępnie dane zapisano do typu danych DataFrame z biblioteki pandas by pokazać strukturę i wygląd danych."
      ],
      "metadata": {
        "nteract": {
          "transient": {
            "deleting": false
          }
        }
      }
    },
    {
      "cell_type": "code",
      "source": [
        "import pandas as pd\n",
        "from azureml.core import Dataset \n",
        "\n",
        "url=\"http://archive.ics.uci.edu/ml/machine-learning-databases/wine-quality/winequality-white.csv\"\n",
        "\n",
        "aml_dataset = Dataset.Tabular.from_delimited_files(url, separator = ';')\n",
        "full_df = aml_dataset.to_pandas_dataframe()\n",
        "full_df\n",
        "\n"
      ],
      "outputs": [
        {
          "output_type": "execute_result",
          "execution_count": 20,
          "data": {
            "text/plain": "      fixed acidity  volatile acidity  citric acid  residual sugar  chlorides  \\\n0              7.00              0.27         0.36           20.70       0.04   \n1              6.30              0.30         0.34            1.60       0.05   \n2              8.10              0.28         0.40            6.90       0.05   \n3              7.20              0.23         0.32            8.50       0.06   \n4              7.20              0.23         0.32            8.50       0.06   \n...             ...               ...          ...             ...        ...   \n4893           6.20              0.21         0.29            1.60       0.04   \n4894           6.60              0.32         0.36            8.00       0.05   \n4895           6.50              0.24         0.19            1.20       0.04   \n4896           5.50              0.29         0.30            1.10       0.02   \n4897           6.00              0.21         0.38            0.80       0.02   \n\n      free sulfur dioxide  total sulfur dioxide  density   pH  sulphates  \\\n0                   45.00                170.00     1.00 3.00       0.45   \n1                   14.00                132.00     0.99 3.30       0.49   \n2                   30.00                 97.00     1.00 3.26       0.44   \n3                   47.00                186.00     1.00 3.19       0.40   \n4                   47.00                186.00     1.00 3.19       0.40   \n...                   ...                   ...      ...  ...        ...   \n4893                24.00                 92.00     0.99 3.27       0.50   \n4894                57.00                168.00     0.99 3.15       0.46   \n4895                30.00                111.00     0.99 2.99       0.46   \n4896                20.00                110.00     0.99 3.34       0.38   \n4897                22.00                 98.00     0.99 3.26       0.32   \n\n      alcohol  quality  \n0        8.80        6  \n1        9.50        6  \n2       10.10        6  \n3        9.90        6  \n4        9.90        6  \n...       ...      ...  \n4893    11.20        6  \n4894     9.60        5  \n4895     9.40        6  \n4896    12.80        7  \n4897    11.80        6  \n\n[4898 rows x 12 columns]",
            "text/html": "<div>\n<style scoped>\n    .dataframe tbody tr th:only-of-type {\n        vertical-align: middle;\n    }\n\n    .dataframe tbody tr th {\n        vertical-align: top;\n    }\n\n    .dataframe thead th {\n        text-align: right;\n    }\n</style>\n<table border=\"1\" class=\"dataframe\">\n  <thead>\n    <tr style=\"text-align: right;\">\n      <th></th>\n      <th>fixed acidity</th>\n      <th>volatile acidity</th>\n      <th>citric acid</th>\n      <th>residual sugar</th>\n      <th>chlorides</th>\n      <th>free sulfur dioxide</th>\n      <th>total sulfur dioxide</th>\n      <th>density</th>\n      <th>pH</th>\n      <th>sulphates</th>\n      <th>alcohol</th>\n      <th>quality</th>\n    </tr>\n  </thead>\n  <tbody>\n    <tr>\n      <th>0</th>\n      <td>7.00</td>\n      <td>0.27</td>\n      <td>0.36</td>\n      <td>20.70</td>\n      <td>0.04</td>\n      <td>45.00</td>\n      <td>170.00</td>\n      <td>1.00</td>\n      <td>3.00</td>\n      <td>0.45</td>\n      <td>8.80</td>\n      <td>6</td>\n    </tr>\n    <tr>\n      <th>1</th>\n      <td>6.30</td>\n      <td>0.30</td>\n      <td>0.34</td>\n      <td>1.60</td>\n      <td>0.05</td>\n      <td>14.00</td>\n      <td>132.00</td>\n      <td>0.99</td>\n      <td>3.30</td>\n      <td>0.49</td>\n      <td>9.50</td>\n      <td>6</td>\n    </tr>\n    <tr>\n      <th>2</th>\n      <td>8.10</td>\n      <td>0.28</td>\n      <td>0.40</td>\n      <td>6.90</td>\n      <td>0.05</td>\n      <td>30.00</td>\n      <td>97.00</td>\n      <td>1.00</td>\n      <td>3.26</td>\n      <td>0.44</td>\n      <td>10.10</td>\n      <td>6</td>\n    </tr>\n    <tr>\n      <th>3</th>\n      <td>7.20</td>\n      <td>0.23</td>\n      <td>0.32</td>\n      <td>8.50</td>\n      <td>0.06</td>\n      <td>47.00</td>\n      <td>186.00</td>\n      <td>1.00</td>\n      <td>3.19</td>\n      <td>0.40</td>\n      <td>9.90</td>\n      <td>6</td>\n    </tr>\n    <tr>\n      <th>4</th>\n      <td>7.20</td>\n      <td>0.23</td>\n      <td>0.32</td>\n      <td>8.50</td>\n      <td>0.06</td>\n      <td>47.00</td>\n      <td>186.00</td>\n      <td>1.00</td>\n      <td>3.19</td>\n      <td>0.40</td>\n      <td>9.90</td>\n      <td>6</td>\n    </tr>\n    <tr>\n      <th>...</th>\n      <td>...</td>\n      <td>...</td>\n      <td>...</td>\n      <td>...</td>\n      <td>...</td>\n      <td>...</td>\n      <td>...</td>\n      <td>...</td>\n      <td>...</td>\n      <td>...</td>\n      <td>...</td>\n      <td>...</td>\n    </tr>\n    <tr>\n      <th>4893</th>\n      <td>6.20</td>\n      <td>0.21</td>\n      <td>0.29</td>\n      <td>1.60</td>\n      <td>0.04</td>\n      <td>24.00</td>\n      <td>92.00</td>\n      <td>0.99</td>\n      <td>3.27</td>\n      <td>0.50</td>\n      <td>11.20</td>\n      <td>6</td>\n    </tr>\n    <tr>\n      <th>4894</th>\n      <td>6.60</td>\n      <td>0.32</td>\n      <td>0.36</td>\n      <td>8.00</td>\n      <td>0.05</td>\n      <td>57.00</td>\n      <td>168.00</td>\n      <td>0.99</td>\n      <td>3.15</td>\n      <td>0.46</td>\n      <td>9.60</td>\n      <td>5</td>\n    </tr>\n    <tr>\n      <th>4895</th>\n      <td>6.50</td>\n      <td>0.24</td>\n      <td>0.19</td>\n      <td>1.20</td>\n      <td>0.04</td>\n      <td>30.00</td>\n      <td>111.00</td>\n      <td>0.99</td>\n      <td>2.99</td>\n      <td>0.46</td>\n      <td>9.40</td>\n      <td>6</td>\n    </tr>\n    <tr>\n      <th>4896</th>\n      <td>5.50</td>\n      <td>0.29</td>\n      <td>0.30</td>\n      <td>1.10</td>\n      <td>0.02</td>\n      <td>20.00</td>\n      <td>110.00</td>\n      <td>0.99</td>\n      <td>3.34</td>\n      <td>0.38</td>\n      <td>12.80</td>\n      <td>7</td>\n    </tr>\n    <tr>\n      <th>4897</th>\n      <td>6.00</td>\n      <td>0.21</td>\n      <td>0.38</td>\n      <td>0.80</td>\n      <td>0.02</td>\n      <td>22.00</td>\n      <td>98.00</td>\n      <td>0.99</td>\n      <td>3.26</td>\n      <td>0.32</td>\n      <td>11.80</td>\n      <td>6</td>\n    </tr>\n  </tbody>\n</table>\n<p>4898 rows × 12 columns</p>\n</div>"
          },
          "metadata": {}
        }
      ],
      "execution_count": 20,
      "metadata": {
        "gather": {
          "logged": 1611692047764
        }
      }
    },
    {
      "cell_type": "markdown",
      "source": [
        "Podział zbioru na dane testowe i dane treningowe."
      ],
      "metadata": {
        "nteract": {
          "transient": {
            "deleting": false
          }
        }
      }
    },
    {
      "cell_type": "code",
      "source": [
        "train_dataset, test_dataset = aml_dataset.random_split(0.8, seed=1)"
      ],
      "outputs": [],
      "execution_count": 21,
      "metadata": {
        "collapsed": true,
        "jupyter": {
          "source_hidden": false,
          "outputs_hidden": false
        },
        "nteract": {
          "transient": {
            "deleting": false
          }
        },
        "gather": {
          "logged": 1611692047978
        }
      }
    },
    {
      "cell_type": "markdown",
      "source": [
        "Pobranie do zmiennej Azurowego środowiska pracy do ML utworzonego w portalu Azure'owym, oraz zapisanie do zmiennej jednostki obliczającej, która będzie przetwarzała nasz model."
      ],
      "metadata": {
        "nteract": {
          "transient": {
            "deleting": false
          }
        }
      }
    },
    {
      "cell_type": "code",
      "source": [
        "from azureml.core.compute import AmlCompute\n",
        "from azureml.core.compute import ComputeTarget\n",
        "from azureml.core import Workspace\n",
        "\n",
        "ws = Workspace.get('lab3WS', subscription_id='c01c3ddc-cf07-4160-8192-2a2476ee0151', resource_group='lab3')\n",
        "ComputeTarget.list(ws)\n",
        "amlcompute_cluster_name = \"lab3CC\"\n"
      ],
      "outputs": [],
      "execution_count": 3,
      "metadata": {
        "collapsed": true,
        "jupyter": {
          "source_hidden": false,
          "outputs_hidden": false
        },
        "nteract": {
          "transient": {
            "deleting": false
          }
        },
        "gather": {
          "logged": 1611689745826
        }
      }
    },
    {
      "cell_type": "markdown",
      "source": [
        "Operacja sprawdzająca czy istnieje jednostka obliczniowa o wcześniej podanje nazwie i zapisanie jej do zmiennej"
      ],
      "metadata": {
        "nteract": {
          "transient": {
            "deleting": false
          }
        }
      }
    },
    {
      "cell_type": "code",
      "source": [
        "found = False\n",
        "cts = ws.compute_targets\n",
        "\n",
        "if amlcompute_cluster_name in cts and cts[amlcompute_cluster_name].type == 'AmlCompute':\n",
        "     found = True\n",
        "     print('Found existing training cluster.')\n",
        "     aml_remote_compute = cts[amlcompute_cluster_name]\n",
        "    \n",
        "if not found:\n",
        "     print('Creating a new training cluster...')\n",
        "     provisioning_config = AmlCompute.provisioning_configuration(vm_size = \"STANDARD_DS11_V2\",\n",
        "                                                                 max_nodes = 20)\n",
        "     aml_remote_compute = ComputeTarget.create(ws, amlcompute_cluster_name, provisioning_config)\n",
        "    \n",
        "print('Checking cluster status...')\n",
        "aml_remote_compute.wait_for_completion(show_output = True, min_node_count = 0, timeout_in_minutes = 20)"
      ],
      "outputs": [
        {
          "output_type": "stream",
          "name": "stdout",
          "text": [
            "Found existing training cluster.\n",
            "Checking cluster status...\n",
            "Succeeded\n",
            "AmlCompute wait for completion finished\n",
            "\n",
            "Minimum number of nodes requested have been provisioned\n"
          ]
        }
      ],
      "execution_count": 4,
      "metadata": {
        "collapsed": true,
        "jupyter": {
          "source_hidden": false,
          "outputs_hidden": false
        },
        "nteract": {
          "transient": {
            "deleting": false
          }
        },
        "gather": {
          "logged": 1611689746422
        }
      }
    },
    {
      "cell_type": "markdown",
      "source": [
        "sprawdzenie istniejących możliwych funcji błędu dla zadania regresji."
      ],
      "metadata": {
        "nteract": {
          "transient": {
            "deleting": false
          }
        }
      }
    },
    {
      "cell_type": "code",
      "source": [
        "from azureml.train.automl.utilities import get_primary_metrics\n",
        "get_primary_metrics('regression')"
      ],
      "outputs": [
        {
          "output_type": "execute_result",
          "execution_count": 5,
          "data": {
            "text/plain": "['normalized_mean_absolute_error',\n 'normalized_root_mean_squared_error',\n 'spearman_correlation',\n 'r2_score']"
          },
          "metadata": {}
        }
      ],
      "execution_count": 5,
      "metadata": {
        "collapsed": true,
        "jupyter": {
          "source_hidden": false,
          "outputs_hidden": false
        },
        "nteract": {
          "transient": {
            "deleting": false
          }
        },
        "gather": {
          "logged": 1611689746599
        }
      }
    },
    {
      "cell_type": "markdown",
      "source": [
        "ustawienie parametrów procesu uczenia:\n",
        "* compute_target - jednostka obliczeniowa\n",
        "* task - typ zadania - klasyfikacja, regresja albo przewidywanie danych w szeregów czasowych\n",
        "* primary_metric - wybór funkcji starty, tej która mówi jaka jest różnica pomiędzy obecnie wyznaczoną przez model wartością a wartością docelową\n",
        "* experiment_timeout_minutes - czas zakończenia eksperymentu, gdy uczy się za długo                         \n",
        "* training_data - dane trenigowe,\n",
        "* label_column_name - kolumna danych, która jest warotścią, którą model ma się nauczyć przewiywać\n",
        "* n_cross_validations - walidacja krzyżowa, jest to podział zbioru treningowego na n równych części, gdzie trenuje się n modeli, w których jedną z n części to zbiór validacyjny a cała reszta to zbiór treningowy. Na koniec uśrednia się wyniki tych n modeli i w ten sposób dane są bardziej odporne na podział danych zbiór treningowy i walidacyjny.                                                 \n",
        "* enable_early_stopping - możliwośc zatrzymnia procesu ucznenia przed końcem odpowiedniej liczby iteracji, gdy wynik sie nie poprawia\n",
        "* featurization - jest to automatyczna kalibracja danych, tzn. usuwanie tych rekordów gdzie jakiejś wartości nie ma, zamiana teksu na dane, które mogą podlegać uczeniu itp.\n"
      ],
      "metadata": {
        "nteract": {
          "transient": {
            "deleting": false
          }
        }
      }
    },
    {
      "cell_type": "code",
      "source": [
        "from azureml.train.automl import AutoMLConfig\n",
        "\n",
        "\n",
        "automl_config = AutoMLConfig(compute_target = aml_remote_compute,\n",
        "                             task = 'regression',\n",
        "                             primary_metric = 'normalized_root_mean_squared_error',\n",
        "                             experiment_timeout_minutes = 15,                            \n",
        "                             training_data = train_dataset,\n",
        "                             label_column_name = \"quality\",\n",
        "                             n_cross_validations = 5,                                                  \n",
        "                             enable_early_stopping=True,\n",
        "                             featurization='auto',\n",
        "                             )"
      ],
      "outputs": [],
      "execution_count": 32,
      "metadata": {
        "collapsed": true,
        "jupyter": {
          "source_hidden": false,
          "outputs_hidden": false
        },
        "nteract": {
          "transient": {
            "deleting": false
          }
        },
        "gather": {
          "logged": 1611694336743
        }
      }
    },
    {
      "cell_type": "markdown",
      "source": [
        "stworznie nazwy dla eksperymentu, przeprowadzenie uczenia w danym środowisku dla danej konfiguracji ustawionej w poprzednum punkcie. Dodatkowo mierzy się czas uczenia i na koniec go wyświetla. Na dole wyświetlaja się sukcesywnie różne modele i ich wyniki. Im mniejszy wynik tym lepiej, bo nasz model mniej się myli"
      ],
      "metadata": {
        "nteract": {
          "transient": {
            "deleting": false
          }
        }
      }
    },
    {
      "cell_type": "code",
      "source": [
        "from azureml.core import Experiment\n",
        "from datetime import datetime\n",
        "\n",
        "now = datetime.now()\n",
        "time_string = now.strftime(\"%m-%d-%Y-%H\")\n",
        "experiment_name = \"quality-wine-regression-{0}\".format(time_string)\n",
        "print(experiment_name)\n",
        "\n",
        "experiment = Experiment(workspace=ws, name=experiment_name)\n",
        "\n",
        "import time\n",
        "start_time = time.time()\n",
        "            \n",
        "run = experiment.submit(automl_config, show_output=True)\n",
        "\n",
        "print('Manual run timing: --- %s seconds needed for running the whole Remote AutoML Experiment ---' % (time.time() - start_time))\n"
      ],
      "outputs": [
        {
          "output_type": "stream",
          "name": "stdout",
          "text": [
            "quality-wine-regression-01-26-2021-20\n",
            "Running on remote.\n",
            "No run_configuration provided, running on lab3CC with default configuration\n",
            "Running on remote compute: lab3CC\n",
            "Parent Run ID: AutoML_cc37dd10-6e13-4fe0-ade7-4ae1c56b261d\n",
            "\n",
            "Current status: FeaturesGeneration. Generating features for the dataset.\n",
            "Current status: DatasetCrossValidationSplit. Generating individually featurized CV splits.\n",
            "Current status: ModelSelection. Beginning model selection.\n",
            "\n",
            "****************************************************************************************************\n",
            "DATA GUARDRAILS: \n",
            "\n",
            "TYPE:         Missing feature values imputation\n",
            "STATUS:       PASSED\n",
            "DESCRIPTION:  No feature missing values were detected in the training data.\n",
            "              Learn more about missing value imputation: https://aka.ms/AutomatedMLFeaturization\n",
            "\n",
            "****************************************************************************************************\n",
            "\n",
            "TYPE:         High cardinality feature detection\n",
            "STATUS:       PASSED\n",
            "DESCRIPTION:  Your inputs were analyzed, and no high cardinality features were detected.\n",
            "              Learn more about high cardinality feature handling: https://aka.ms/AutomatedMLFeaturization\n",
            "\n",
            "****************************************************************************************************\n",
            "\n",
            "****************************************************************************************************\n",
            "ITERATION: The iteration being evaluated.\n",
            "PIPELINE: A summary description of the pipeline being evaluated.\n",
            "DURATION: Time taken for the current iteration.\n",
            "METRIC: The result of computing score on the fitted pipeline.\n",
            "BEST: The best observed score thus far.\n",
            "****************************************************************************************************\n",
            "\n",
            " ITERATION   PIPELINE                                       DURATION      METRIC      BEST\n",
            "         0   MaxAbsScaler LightGBM                          0:01:55       0.1087    0.1087\n",
            "         1   MaxAbsScaler XGBoostRegressor                  0:00:41       0.1148    0.1087\n",
            "         2   RobustScaler LassoLars                         0:00:50       0.1255    0.1087\n",
            "         3   RobustScaler DecisionTree                      0:00:36       0.1237    0.1087\n",
            "         4   StandardScalerWrapper DecisionTree             0:00:50       0.1231    0.1087\n",
            "         5   RobustScaler DecisionTree                      0:00:39       0.1231    0.1087\n",
            "         6   StandardScalerWrapper ElasticNet               0:00:36       0.1271    0.1087\n",
            "         7   MinMaxScaler DecisionTree                      0:00:39       0.1234    0.1087\n",
            "         8   MinMaxScaler ElasticNet                        0:00:36       0.1259    0.1087\n",
            "         9   StandardScalerWrapper DecisionTree             0:00:39       0.1234    0.1087\n",
            "        10   StandardScalerWrapper DecisionTree             0:00:47       0.1233    0.1087\n",
            "        11   RobustScaler DecisionTree                      0:00:39       0.1241    0.1087\n",
            "        12   RobustScaler ElasticNet                        0:00:42       0.1259    0.1087\n",
            "        13   RobustScaler DecisionTree                      0:00:42       0.1235    0.1087\n",
            "        14   RobustScaler DecisionTree                      0:00:36       0.1234    0.1087\n",
            "        15   StandardScalerWrapper DecisionTree             0:00:39       0.1235    0.1087\n",
            "        16    VotingEnsemble                                0:01:05       0.1086    0.1086\n",
            "        17    StackEnsemble                                 0:01:02       0.1087    0.1086\n",
            "Manual run timing: --- 1666.5788292884827 seconds needed for running the whole Remote AutoML Experiment ---\n"
          ]
        }
      ],
      "execution_count": 33,
      "metadata": {
        "collapsed": true,
        "jupyter": {
          "source_hidden": false,
          "outputs_hidden": false
        },
        "nteract": {
          "transient": {
            "deleting": false
          }
        },
        "gather": {
          "logged": 1611696006763
        }
      }
    },
    {
      "cell_type": "markdown",
      "source": [
        "Sprawdzenie stanu czy udało się zakończyć poprawnie uczenie."
      ],
      "metadata": {
        "nteract": {
          "transient": {
            "deleting": false
          }
        }
      }
    },
    {
      "cell_type": "code",
      "source": [
        "from azureml.widgets import RunDetails\n",
        "RunDetails(run).show()"
      ],
      "outputs": [
        {
          "output_type": "display_data",
          "data": {
            "text/plain": "_AutoMLWidget(widget_settings={'childWidgetDisplay': 'popup', 'send_telemetry': False, 'log_level': 'INFO', 's…",
            "application/vnd.jupyter.widget-view+json": {
              "version_major": 2,
              "version_minor": 0,
              "model_id": "ac0ab31e5835463a9fd6fdde3c6c3b26"
            }
          },
          "metadata": {}
        },
        {
          "output_type": "display_data",
          "data": {
            "application/aml.mini.widget.v1": "{\"status\": \"Completed\", \"workbench_run_details_uri\": \"https://ml.azure.com/experiments/quality-wine-regression-01-26-2021-20/runs/AutoML_cc37dd10-6e13-4fe0-ade7-4ae1c56b261d?wsid=/subscriptions/c01c3ddc-cf07-4160-8192-2a2476ee0151/resourcegroups/lab3/workspaces/lab3WS\", \"run_id\": \"AutoML_cc37dd10-6e13-4fe0-ade7-4ae1c56b261d\", \"run_properties\": {\"run_id\": \"AutoML_cc37dd10-6e13-4fe0-ade7-4ae1c56b261d\", \"created_utc\": \"2021-01-26T20:52:37.920004Z\", \"properties\": {\"num_iterations\": \"1000\", \"training_type\": \"TrainFull\", \"acquisition_function\": \"EI\", \"primary_metric\": \"normalized_root_mean_squared_error\", \"train_split\": \"0\", \"acquisition_parameter\": \"0\", \"num_cross_validation\": \"5\", \"target\": \"lab3CC\", \"AMLSettingsJsonString\": \"{\\\"path\\\":null,\\\"name\\\":\\\"quality-wine-regression-01-26-2021-20\\\",\\\"subscription_id\\\":\\\"c01c3ddc-cf07-4160-8192-2a2476ee0151\\\",\\\"resource_group\\\":\\\"lab3\\\",\\\"workspace_name\\\":\\\"lab3WS\\\",\\\"region\\\":\\\"westeurope\\\",\\\"compute_target\\\":\\\"lab3CC\\\",\\\"spark_service\\\":null,\\\"azure_service\\\":\\\"remote\\\",\\\"many_models\\\":false,\\\"pipeline_fetch_max_batch_size\\\":1,\\\"iterations\\\":1000,\\\"primary_metric\\\":\\\"normalized_root_mean_squared_error\\\",\\\"task_type\\\":\\\"regression\\\",\\\"data_script\\\":null,\\\"validation_size\\\":0.0,\\\"n_cross_validations\\\":5,\\\"y_min\\\":null,\\\"y_max\\\":null,\\\"num_classes\\\":null,\\\"featurization\\\":\\\"auto\\\",\\\"_ignore_package_version_incompatibilities\\\":false,\\\"is_timeseries\\\":false,\\\"max_cores_per_iteration\\\":1,\\\"max_concurrent_iterations\\\":1,\\\"iteration_timeout_minutes\\\":null,\\\"mem_in_mb\\\":null,\\\"enforce_time_on_windows\\\":false,\\\"experiment_timeout_minutes\\\":15,\\\"experiment_exit_score\\\":null,\\\"whitelist_models\\\":null,\\\"blacklist_algos\\\":[\\\"TensorFlowDNN\\\",\\\"TensorFlowLinearRegressor\\\"],\\\"supported_models\\\":[\\\"FastLinearRegressor\\\",\\\"TensorFlowLinearRegressor\\\",\\\"LassoLars\\\",\\\"RandomForest\\\",\\\"TensorFlowDNN\\\",\\\"DecisionTree\\\",\\\"ElasticNet\\\",\\\"OnlineGradientDescentRegressor\\\",\\\"KNN\\\",\\\"XGBoostRegressor\\\",\\\"GradientBoosting\\\",\\\"LightGBM\\\",\\\"ExtremeRandomTrees\\\",\\\"SGD\\\"],\\\"auto_blacklist\\\":true,\\\"blacklist_samples_reached\\\":false,\\\"exclude_nan_labels\\\":true,\\\"verbosity\\\":20,\\\"_debug_log\\\":\\\"azureml_automl.log\\\",\\\"show_warnings\\\":false,\\\"model_explainability\\\":true,\\\"service_url\\\":null,\\\"sdk_url\\\":null,\\\"sdk_packages\\\":null,\\\"enable_onnx_compatible_models\\\":false,\\\"enable_split_onnx_featurizer_estimator_models\\\":false,\\\"vm_type\\\":\\\"STANDARD_DS11_V2\\\",\\\"telemetry_verbosity\\\":20,\\\"send_telemetry\\\":true,\\\"enable_dnn\\\":false,\\\"scenario\\\":\\\"SDK-1.13.0\\\",\\\"environment_label\\\":null,\\\"force_text_dnn\\\":false,\\\"enable_feature_sweeping\\\":true,\\\"enable_early_stopping\\\":true,\\\"early_stopping_n_iters\\\":10,\\\"metrics\\\":null,\\\"enable_ensembling\\\":true,\\\"enable_stack_ensembling\\\":true,\\\"ensemble_iterations\\\":15,\\\"enable_tf\\\":false,\\\"enable_subsampling\\\":null,\\\"subsample_seed\\\":null,\\\"enable_nimbusml\\\":false,\\\"enable_streaming\\\":false,\\\"force_streaming\\\":false,\\\"track_child_runs\\\":true,\\\"allowed_private_models\\\":[],\\\"label_column_name\\\":\\\"quality\\\",\\\"weight_column_name\\\":null,\\\"cv_split_column_names\\\":null,\\\"enable_local_managed\\\":false,\\\"_local_managed_run_id\\\":null,\\\"cost_mode\\\":1,\\\"lag_length\\\":0,\\\"metric_operation\\\":\\\"minimize\\\",\\\"preprocess\\\":true}\", \"DataPrepJsonString\": \"{\\\\\\\"training_data\\\\\\\": \\\\\\\"{\\\\\\\\\\\\\\\"blocks\\\\\\\\\\\\\\\": [{\\\\\\\\\\\\\\\"id\\\\\\\\\\\\\\\": \\\\\\\\\\\\\\\"49be343d-c61c-4551-b0ad-f9cb3aa5b152\\\\\\\\\\\\\\\", \\\\\\\\\\\\\\\"type\\\\\\\\\\\\\\\": \\\\\\\\\\\\\\\"Microsoft.DPrep.GetFilesBlock\\\\\\\\\\\\\\\", \\\\\\\\\\\\\\\"arguments\\\\\\\\\\\\\\\": {\\\\\\\\\\\\\\\"isArchive\\\\\\\\\\\\\\\": false, \\\\\\\\\\\\\\\"path\\\\\\\\\\\\\\\": {\\\\\\\\\\\\\\\"target\\\\\\\\\\\\\\\": 4, \\\\\\\\\\\\\\\"resourceDetails\\\\\\\\\\\\\\\": [{\\\\\\\\\\\\\\\"path\\\\\\\\\\\\\\\": \\\\\\\\\\\\\\\"http://archive.ics.uci.edu/ml/machine-learning-databases/wine-quality/winequality-white.csv\\\\\\\\\\\\\\\"}]}}, \\\\\\\\\\\\\\\"localData\\\\\\\\\\\\\\\": {}, \\\\\\\\\\\\\\\"isEnabled\\\\\\\\\\\\\\\": true, \\\\\\\\\\\\\\\"name\\\\\\\\\\\\\\\": null, \\\\\\\\\\\\\\\"annotation\\\\\\\\\\\\\\\": null}, {\\\\\\\\\\\\\\\"id\\\\\\\\\\\\\\\": \\\\\\\\\\\\\\\"e4fd0679-e341-4df1-a4a9-1b85bf0e205b\\\\\\\\\\\\\\\", \\\\\\\\\\\\\\\"type\\\\\\\\\\\\\\\": \\\\\\\\\\\\\\\"Microsoft.DPrep.ParseDelimitedBlock\\\\\\\\\\\\\\\", \\\\\\\\\\\\\\\"arguments\\\\\\\\\\\\\\\": {\\\\\\\\\\\\\\\"columnHeadersMode\\\\\\\\\\\\\\\": 3, \\\\\\\\\\\\\\\"fileEncoding\\\\\\\\\\\\\\\": 0, \\\\\\\\\\\\\\\"handleQuotedLineBreaks\\\\\\\\\\\\\\\": false, \\\\\\\\\\\\\\\"preview\\\\\\\\\\\\\\\": false, \\\\\\\\\\\\\\\"separator\\\\\\\\\\\\\\\": \\\\\\\\\\\\\\\";\\\\\\\\\\\\\\\", \\\\\\\\\\\\\\\"skipRows\\\\\\\\\\\\\\\": 0, \\\\\\\\\\\\\\\"skipRowsMode\\\\\\\\\\\\\\\": 0}, \\\\\\\\\\\\\\\"localData\\\\\\\\\\\\\\\": {}, \\\\\\\\\\\\\\\"isEnabled\\\\\\\\\\\\\\\": true, \\\\\\\\\\\\\\\"name\\\\\\\\\\\\\\\": null, \\\\\\\\\\\\\\\"annotation\\\\\\\\\\\\\\\": null}, {\\\\\\\\\\\\\\\"id\\\\\\\\\\\\\\\": \\\\\\\\\\\\\\\"81da7a78-fff9-4625-908f-59ad1b391e94\\\\\\\\\\\\\\\", \\\\\\\\\\\\\\\"type\\\\\\\\\\\\\\\": \\\\\\\\\\\\\\\"Microsoft.DPrep.DropColumnsBlock\\\\\\\\\\\\\\\", \\\\\\\\\\\\\\\"arguments\\\\\\\\\\\\\\\": {\\\\\\\\\\\\\\\"columns\\\\\\\\\\\\\\\": {\\\\\\\\\\\\\\\"type\\\\\\\\\\\\\\\": 0, \\\\\\\\\\\\\\\"details\\\\\\\\\\\\\\\": {\\\\\\\\\\\\\\\"selectedColumns\\\\\\\\\\\\\\\": [\\\\\\\\\\\\\\\"Path\\\\\\\\\\\\\\\"]}}}, \\\\\\\\\\\\\\\"localData\\\\\\\\\\\\\\\": {}, \\\\\\\\\\\\\\\"isEnabled\\\\\\\\\\\\\\\": true, \\\\\\\\\\\\\\\"name\\\\\\\\\\\\\\\": null, \\\\\\\\\\\\\\\"annotation\\\\\\\\\\\\\\\": null}, {\\\\\\\\\\\\\\\"id\\\\\\\\\\\\\\\": \\\\\\\\\\\\\\\"6a4514c0-8de1-4029-ba4e-a50d1b731aa0\\\\\\\\\\\\\\\", \\\\\\\\\\\\\\\"type\\\\\\\\\\\\\\\": \\\\\\\\\\\\\\\"Microsoft.DPrep.SetColumnTypesBlock\\\\\\\\\\\\\\\", \\\\\\\\\\\\\\\"arguments\\\\\\\\\\\\\\\": {\\\\\\\\\\\\\\\"columnConversion\\\\\\\\\\\\\\\": [{\\\\\\\\\\\\\\\"column\\\\\\\\\\\\\\\": {\\\\\\\\\\\\\\\"type\\\\\\\\\\\\\\\": 2, \\\\\\\\\\\\\\\"details\\\\\\\\\\\\\\\": {\\\\\\\\\\\\\\\"selectedColumn\\\\\\\\\\\\\\\": \\\\\\\\\\\\\\\"fixed acidity\\\\\\\\\\\\\\\"}}, \\\\\\\\\\\\\\\"typeProperty\\\\\\\\\\\\\\\": 3}, {\\\\\\\\\\\\\\\"column\\\\\\\\\\\\\\\": {\\\\\\\\\\\\\\\"type\\\\\\\\\\\\\\\": 2, \\\\\\\\\\\\\\\"details\\\\\\\\\\\\\\\": {\\\\\\\\\\\\\\\"selectedColumn\\\\\\\\\\\\\\\": \\\\\\\\\\\\\\\"volatile acidity\\\\\\\\\\\\\\\"}}, \\\\\\\\\\\\\\\"typeProperty\\\\\\\\\\\\\\\": 3}, {\\\\\\\\\\\\\\\"column\\\\\\\\\\\\\\\": {\\\\\\\\\\\\\\\"type\\\\\\\\\\\\\\\": 2, \\\\\\\\\\\\\\\"details\\\\\\\\\\\\\\\": {\\\\\\\\\\\\\\\"selectedColumn\\\\\\\\\\\\\\\": \\\\\\\\\\\\\\\"citric acid\\\\\\\\\\\\\\\"}}, \\\\\\\\\\\\\\\"typeProperty\\\\\\\\\\\\\\\": 3}, {\\\\\\\\\\\\\\\"column\\\\\\\\\\\\\\\": {\\\\\\\\\\\\\\\"type\\\\\\\\\\\\\\\": 2, \\\\\\\\\\\\\\\"details\\\\\\\\\\\\\\\": {\\\\\\\\\\\\\\\"selectedColumn\\\\\\\\\\\\\\\": \\\\\\\\\\\\\\\"residual sugar\\\\\\\\\\\\\\\"}}, \\\\\\\\\\\\\\\"typeProperty\\\\\\\\\\\\\\\": 3}, {\\\\\\\\\\\\\\\"column\\\\\\\\\\\\\\\": {\\\\\\\\\\\\\\\"type\\\\\\\\\\\\\\\": 2, \\\\\\\\\\\\\\\"details\\\\\\\\\\\\\\\": {\\\\\\\\\\\\\\\"selectedColumn\\\\\\\\\\\\\\\": \\\\\\\\\\\\\\\"chlorides\\\\\\\\\\\\\\\"}}, \\\\\\\\\\\\\\\"typeProperty\\\\\\\\\\\\\\\": 3}, {\\\\\\\\\\\\\\\"column\\\\\\\\\\\\\\\": {\\\\\\\\\\\\\\\"type\\\\\\\\\\\\\\\": 2, \\\\\\\\\\\\\\\"details\\\\\\\\\\\\\\\": {\\\\\\\\\\\\\\\"selectedColumn\\\\\\\\\\\\\\\": \\\\\\\\\\\\\\\"free sulfur dioxide\\\\\\\\\\\\\\\"}}, \\\\\\\\\\\\\\\"typeProperty\\\\\\\\\\\\\\\": 3}, {\\\\\\\\\\\\\\\"column\\\\\\\\\\\\\\\": {\\\\\\\\\\\\\\\"type\\\\\\\\\\\\\\\": 2, \\\\\\\\\\\\\\\"details\\\\\\\\\\\\\\\": {\\\\\\\\\\\\\\\"selectedColumn\\\\\\\\\\\\\\\": \\\\\\\\\\\\\\\"total sulfur dioxide\\\\\\\\\\\\\\\"}}, \\\\\\\\\\\\\\\"typeProperty\\\\\\\\\\\\\\\": 3}, {\\\\\\\\\\\\\\\"column\\\\\\\\\\\\\\\": {\\\\\\\\\\\\\\\"type\\\\\\\\\\\\\\\": 2, \\\\\\\\\\\\\\\"details\\\\\\\\\\\\\\\": {\\\\\\\\\\\\\\\"selectedColumn\\\\\\\\\\\\\\\": \\\\\\\\\\\\\\\"density\\\\\\\\\\\\\\\"}}, \\\\\\\\\\\\\\\"typeProperty\\\\\\\\\\\\\\\": 3}, {\\\\\\\\\\\\\\\"column\\\\\\\\\\\\\\\": {\\\\\\\\\\\\\\\"type\\\\\\\\\\\\\\\": 2, \\\\\\\\\\\\\\\"details\\\\\\\\\\\\\\\": {\\\\\\\\\\\\\\\"selectedColumn\\\\\\\\\\\\\\\": \\\\\\\\\\\\\\\"pH\\\\\\\\\\\\\\\"}}, \\\\\\\\\\\\\\\"typeProperty\\\\\\\\\\\\\\\": 3}, {\\\\\\\\\\\\\\\"column\\\\\\\\\\\\\\\": {\\\\\\\\\\\\\\\"type\\\\\\\\\\\\\\\": 2, \\\\\\\\\\\\\\\"details\\\\\\\\\\\\\\\": {\\\\\\\\\\\\\\\"selectedColumn\\\\\\\\\\\\\\\": \\\\\\\\\\\\\\\"sulphates\\\\\\\\\\\\\\\"}}, \\\\\\\\\\\\\\\"typeProperty\\\\\\\\\\\\\\\": 3}, {\\\\\\\\\\\\\\\"column\\\\\\\\\\\\\\\": {\\\\\\\\\\\\\\\"type\\\\\\\\\\\\\\\": 2, \\\\\\\\\\\\\\\"details\\\\\\\\\\\\\\\": {\\\\\\\\\\\\\\\"selectedColumn\\\\\\\\\\\\\\\": \\\\\\\\\\\\\\\"alcohol\\\\\\\\\\\\\\\"}}, \\\\\\\\\\\\\\\"typeProperty\\\\\\\\\\\\\\\": 3}, {\\\\\\\\\\\\\\\"column\\\\\\\\\\\\\\\": {\\\\\\\\\\\\\\\"type\\\\\\\\\\\\\\\": 2, \\\\\\\\\\\\\\\"details\\\\\\\\\\\\\\\": {\\\\\\\\\\\\\\\"selectedColumn\\\\\\\\\\\\\\\": \\\\\\\\\\\\\\\"quality\\\\\\\\\\\\\\\"}}, \\\\\\\\\\\\\\\"typeProperty\\\\\\\\\\\\\\\": 2}]}, \\\\\\\\\\\\\\\"localData\\\\\\\\\\\\\\\": {}, \\\\\\\\\\\\\\\"isEnabled\\\\\\\\\\\\\\\": true, \\\\\\\\\\\\\\\"name\\\\\\\\\\\\\\\": null, \\\\\\\\\\\\\\\"annotation\\\\\\\\\\\\\\\": null}, {\\\\\\\\\\\\\\\"id\\\\\\\\\\\\\\\": \\\\\\\\\\\\\\\"fda2c8d8-055a-4127-8763-056144365511\\\\\\\\\\\\\\\", \\\\\\\\\\\\\\\"type\\\\\\\\\\\\\\\": \\\\\\\\\\\\\\\"Microsoft.DPrep.TakeSampleBlock\\\\\\\\\\\\\\\", \\\\\\\\\\\\\\\"arguments\\\\\\\\\\\\\\\": {\\\\\\\\\\\\\\\"probability\\\\\\\\\\\\\\\": 0.8, \\\\\\\\\\\\\\\"probabilityLowerBound\\\\\\\\\\\\\\\": 0.0, \\\\\\\\\\\\\\\"seed\\\\\\\\\\\\\\\": 1}, \\\\\\\\\\\\\\\"localData\\\\\\\\\\\\\\\": {}, \\\\\\\\\\\\\\\"isEnabled\\\\\\\\\\\\\\\": true, \\\\\\\\\\\\\\\"name\\\\\\\\\\\\\\\": null, \\\\\\\\\\\\\\\"annotation\\\\\\\\\\\\\\\": null}], \\\\\\\\\\\\\\\"inspectors\\\\\\\\\\\\\\\": [], \\\\\\\\\\\\\\\"meta\\\\\\\\\\\\\\\": {\\\\\\\\\\\\\\\"savedDatasetId\\\\\\\\\\\\\\\": \\\\\\\\\\\\\\\"3a928c6c-6f7f-4b54-ab00-8daecaaae08f\\\\\\\\\\\\\\\", \\\\\\\\\\\\\\\"datasetType\\\\\\\\\\\\\\\": \\\\\\\\\\\\\\\"tabular\\\\\\\\\\\\\\\", \\\\\\\\\\\\\\\"subscriptionId\\\\\\\\\\\\\\\": \\\\\\\\\\\\\\\"c01c3ddc-cf07-4160-8192-2a2476ee0151\\\\\\\\\\\\\\\", \\\\\\\\\\\\\\\"workspaceId\\\\\\\\\\\\\\\": \\\\\\\\\\\\\\\"e6bc1c9e-0296-411e-a0c0-f5f51bfef493\\\\\\\\\\\\\\\", \\\\\\\\\\\\\\\"workspaceLocation\\\\\\\\\\\\\\\": \\\\\\\\\\\\\\\"westeurope\\\\\\\\\\\\\\\"}}\\\\\\\", \\\\\\\"activities\\\\\\\": 0}\", \"EnableSubsampling\": null, \"runTemplate\": \"AutoML\", \"azureml.runsource\": \"automl\", \"display_task_type\": \"regression\", \"dependencies_versions\": \"{\\\"azureml-widgets\\\": \\\"1.20.0\\\", \\\"azureml-train\\\": \\\"1.20.0\\\", \\\"azureml-train-restclients-hyperdrive\\\": \\\"1.20.0\\\", \\\"azureml-train-core\\\": \\\"1.20.0\\\", \\\"azureml-train-automl\\\": \\\"1.20.0\\\", \\\"azureml-train-automl-runtime\\\": \\\"1.20.0\\\", \\\"azureml-train-automl-client\\\": \\\"1.20.0\\\", \\\"azureml-tensorboard\\\": \\\"1.20.0\\\", \\\"azureml-telemetry\\\": \\\"1.20.0\\\", \\\"azureml-sdk\\\": \\\"1.20.0\\\", \\\"azureml-samples\\\": \\\"0+unknown\\\", \\\"azureml-pipeline\\\": \\\"1.20.0\\\", \\\"azureml-pipeline-steps\\\": \\\"1.20.0\\\", \\\"azureml-pipeline-core\\\": \\\"1.20.0\\\", \\\"azureml-opendatasets\\\": \\\"1.20.0\\\", \\\"azureml-model-management-sdk\\\": \\\"1.0.1b6.post1\\\", \\\"azureml-mlflow\\\": \\\"1.20.0.post1\\\", \\\"azureml-interpret\\\": \\\"1.20.0\\\", \\\"azureml-explain-model\\\": \\\"1.20.0\\\", \\\"azureml-defaults\\\": \\\"1.20.0\\\", \\\"azureml-dataset-runtime\\\": \\\"1.20.0\\\", \\\"azureml-dataprep\\\": \\\"2.7.3\\\", \\\"azureml-dataprep-rslex\\\": \\\"1.5.0\\\", \\\"azureml-dataprep-native\\\": \\\"27.0.0\\\", \\\"azureml-datadrift\\\": \\\"1.20.0\\\", \\\"azureml-core\\\": \\\"1.20.0\\\", \\\"azureml-contrib-services\\\": \\\"1.20.0\\\", \\\"azureml-contrib-server\\\": \\\"1.20.0\\\", \\\"azureml-contrib-reinforcementlearning\\\": \\\"1.20.0\\\", \\\"azureml-contrib-pipeline-steps\\\": \\\"1.20.0\\\", \\\"azureml-contrib-notebook\\\": \\\"1.20.0\\\", \\\"azureml-contrib-interpret\\\": \\\"1.20.0\\\", \\\"azureml-contrib-gbdt\\\": \\\"1.20.0\\\", \\\"azureml-contrib-fairness\\\": \\\"1.20.0\\\", \\\"azureml-contrib-dataset\\\": \\\"1.20.0\\\", \\\"azureml-cli-common\\\": \\\"1.20.0\\\", \\\"azureml-automl-runtime\\\": \\\"1.20.0\\\", \\\"azureml-automl-core\\\": \\\"1.20.0\\\", \\\"azureml-accel-models\\\": \\\"1.20.0\\\"}\", \"_aml_system_scenario_identification\": \"Remote.Parent\", \"ClientType\": \"SDK\", \"environment_cpu_name\": \"AzureML-AutoML\", \"environment_cpu_label\": \"prod\", \"environment_gpu_name\": \"AzureML-AutoML-GPU\", \"environment_gpu_label\": \"prod\", \"root_attribution\": \"automl\", \"attribution\": \"AutoML\", \"Orchestrator\": \"AutoML\", \"CancelUri\": \"https://westeurope.experiments.azureml.net/jasmine/v1.0/subscriptions/c01c3ddc-cf07-4160-8192-2a2476ee0151/resourceGroups/lab3/providers/Microsoft.MachineLearningServices/workspaces/lab3WS/experimentids/c76114c5-645d-443d-ba0d-5f53941b0f91/cancel/AutoML_cc37dd10-6e13-4fe0-ade7-4ae1c56b261d\", \"ClientSdkVersion\": \"1.20.0.post1\", \"snapshotId\": \"00000000-0000-0000-0000-000000000000\", \"SetupRunId\": \"AutoML_cc37dd10-6e13-4fe0-ade7-4ae1c56b261d_setup\", \"SetupRunContainerId\": \"dcid.AutoML_cc37dd10-6e13-4fe0-ade7-4ae1c56b261d_setup\", \"FeaturizationRunJsonPath\": \"featurizer_container.json\", \"FeaturizationRunId\": \"AutoML_cc37dd10-6e13-4fe0-ade7-4ae1c56b261d_featurize\", \"ProblemInfoJsonString\": \"{\\\"dataset_num_categorical\\\": 0, \\\"is_sparse\\\": false, \\\"subsampling\\\": false, \\\"dataset_classes\\\": 7, \\\"dataset_features\\\": 11, \\\"dataset_samples\\\": 3923, \\\"single_frequency_class_detected\\\": false}\", \"ModelExplainRunId\": \"AutoML_cc37dd10-6e13-4fe0-ade7-4ae1c56b261d_ModelExplain\"}, \"tags\": {\"model_explain_run\": \"best_run\", \"_aml_system_azureml.automlComponent\": \"AutoML\", \"pipeline_id\": \"\", \"score\": \"\", \"predicted_cost\": \"\", \"fit_time\": \"\", \"training_percent\": \"\", \"iteration\": \"\", \"run_preprocessor\": \"\", \"run_algorithm\": \"\", \"automl_best_child_run_id\": \"AutoML_cc37dd10-6e13-4fe0-ade7-4ae1c56b261d_16\", \"model_explain_best_run_child_id\": \"AutoML_cc37dd10-6e13-4fe0-ade7-4ae1c56b261d_16\"}, \"end_time_utc\": \"2021-01-26T21:19:58.709007Z\", \"status\": \"Completed\", \"log_files\": {}, \"log_groups\": [], \"run_duration\": \"0:27:20\"}, \"child_runs\": [{\"run_id\": \"AutoML_cc37dd10-6e13-4fe0-ade7-4ae1c56b261d_0\", \"run_number\": 5, \"metric\": null, \"status\": \"Completed\", \"run_type\": \"azureml.scriptrun\", \"training_percent\": \"100\", \"start_time\": \"2021-01-26T21:01:47.039283Z\", \"end_time\": \"2021-01-26T21:03:41.788099Z\", \"created_time\": \"2021-01-26T21:01:35.998303Z\", \"created_time_dt\": \"2021-01-26T21:01:35.998303Z\", \"duration\": \"0:02:05\", \"iteration\": \"0\", \"goal\": \"normalized_root_mean_squared_error_min\", \"run_name\": \"MaxAbsScaler, LightGBM\", \"run_properties\": \"copy=True\", \"primary_metric\": 0.10871089, \"best_metric\": 0.10871089}, {\"run_id\": \"AutoML_cc37dd10-6e13-4fe0-ade7-4ae1c56b261d_1\", \"run_number\": 6, \"metric\": null, \"status\": \"Completed\", \"run_type\": \"azureml.scriptrun\", \"training_percent\": \"100\", \"start_time\": \"2021-01-26T21:03:53.195312Z\", \"end_time\": \"2021-01-26T21:04:34.629015Z\", \"created_time\": \"2021-01-26T21:03:43.115575Z\", \"created_time_dt\": \"2021-01-26T21:03:43.115575Z\", \"duration\": \"0:00:51\", \"iteration\": \"1\", \"goal\": \"normalized_root_mean_squared_error_min\", \"run_name\": \"MaxAbsScaler, XGBoostRegressor\", \"run_properties\": \"copy=True\", \"primary_metric\": 0.11478258, \"best_metric\": 0.10871089}, {\"run_id\": \"AutoML_cc37dd10-6e13-4fe0-ade7-4ae1c56b261d_2\", \"run_number\": 7, \"metric\": null, \"status\": \"Completed\", \"run_type\": \"azureml.scriptrun\", \"training_percent\": \"100\", \"start_time\": \"2021-01-26T21:04:47.649587Z\", \"end_time\": \"2021-01-26T21:05:37.586985Z\", \"created_time\": \"2021-01-26T21:04:36.960511Z\", \"created_time_dt\": \"2021-01-26T21:04:36.960511Z\", \"duration\": \"0:01:00\", \"iteration\": \"2\", \"goal\": \"normalized_root_mean_squared_error_min\", \"run_name\": \"RobustScaler, LassoLars\", \"run_properties\": \"copy=True, quantile_range=[10, 90], with_centering=False,\\n             with_scaling=True\", \"primary_metric\": 0.12548549, \"best_metric\": 0.10871089}, {\"run_id\": \"AutoML_cc37dd10-6e13-4fe0-ade7-4ae1c56b261d_3\", \"run_number\": 8, \"metric\": null, \"status\": \"Completed\", \"run_type\": \"azureml.scriptrun\", \"training_percent\": \"100\", \"start_time\": \"2021-01-26T21:05:50.62704Z\", \"end_time\": \"2021-01-26T21:06:26.852949Z\", \"created_time\": \"2021-01-26T21:05:39.965127Z\", \"created_time_dt\": \"2021-01-26T21:05:39.965127Z\", \"duration\": \"0:00:46\", \"iteration\": \"3\", \"goal\": \"normalized_root_mean_squared_error_min\", \"run_name\": \"RobustScaler, DecisionTree\", \"run_properties\": \"copy=True, quantile_range=[10, 90], with_centering=True,\\n             with_scaling=False\", \"primary_metric\": 0.12368948, \"best_metric\": 0.10871089}, {\"run_id\": \"AutoML_cc37dd10-6e13-4fe0-ade7-4ae1c56b261d_4\", \"run_number\": 9, \"metric\": null, \"status\": \"Completed\", \"run_type\": \"azureml.scriptrun\", \"training_percent\": \"100\", \"start_time\": \"2021-01-26T21:06:42.981241Z\", \"end_time\": \"2021-01-26T21:07:33.452153Z\", \"created_time\": \"2021-01-26T21:06:29.277812Z\", \"created_time_dt\": \"2021-01-26T21:06:29.277812Z\", \"duration\": \"0:01:04\", \"iteration\": \"4\", \"goal\": \"normalized_root_mean_squared_error_min\", \"run_name\": \"StandardScalerWrapper, DecisionTree\", \"run_properties\": \"<azureml.automl.runtime.shared.model_wrappers.StandardScalerWrapper object at 0x7fe0e34f3630\", \"primary_metric\": 0.12314005, \"best_metric\": 0.10871089}, {\"run_id\": \"AutoML_cc37dd10-6e13-4fe0-ade7-4ae1c56b261d_5\", \"run_number\": 10, \"metric\": null, \"status\": \"Completed\", \"run_type\": \"azureml.scriptrun\", \"training_percent\": \"100\", \"start_time\": \"2021-01-26T21:07:48.731052Z\", \"end_time\": \"2021-01-26T21:08:28.166011Z\", \"created_time\": \"2021-01-26T21:07:36.217177Z\", \"created_time_dt\": \"2021-01-26T21:07:36.217177Z\", \"duration\": \"0:00:51\", \"iteration\": \"5\", \"goal\": \"normalized_root_mean_squared_error_min\", \"run_name\": \"RobustScaler, DecisionTree\", \"run_properties\": \"copy=True, quantile_range=[10, 90], with_centering=False,\\n             with_scaling=True\", \"primary_metric\": 0.12311, \"best_metric\": 0.10871089}, {\"run_id\": \"AutoML_cc37dd10-6e13-4fe0-ade7-4ae1c56b261d_6\", \"run_number\": 11, \"metric\": null, \"status\": \"Completed\", \"run_type\": \"azureml.scriptrun\", \"training_percent\": \"100\", \"start_time\": \"2021-01-26T21:08:41.561947Z\", \"end_time\": \"2021-01-26T21:09:17.693248Z\", \"created_time\": \"2021-01-26T21:08:31.043333Z\", \"created_time_dt\": \"2021-01-26T21:08:31.043333Z\", \"duration\": \"0:00:46\", \"iteration\": \"6\", \"goal\": \"normalized_root_mean_squared_error_min\", \"run_name\": \"StandardScalerWrapper, ElasticNet\", \"run_properties\": \"<azureml.automl.runtime.shared.model_wrappers.StandardScalerWrapper object at 0x7f86d0440278\", \"primary_metric\": 0.12705779, \"best_metric\": 0.10871089}, {\"run_id\": \"AutoML_cc37dd10-6e13-4fe0-ade7-4ae1c56b261d_7\", \"run_number\": 12, \"metric\": null, \"status\": \"Completed\", \"run_type\": \"azureml.scriptrun\", \"training_percent\": \"100\", \"start_time\": \"2021-01-26T21:09:30.650908Z\", \"end_time\": \"2021-01-26T21:10:09.441254Z\", \"created_time\": \"2021-01-26T21:09:20.167822Z\", \"created_time_dt\": \"2021-01-26T21:09:20.167822Z\", \"duration\": \"0:00:49\", \"iteration\": \"7\", \"goal\": \"normalized_root_mean_squared_error_min\", \"run_name\": \"MinMaxScaler, DecisionTree\", \"run_properties\": \"copy=True, feature_range=(0, 1\", \"primary_metric\": 0.12343098, \"best_metric\": 0.10871089}, {\"run_id\": \"AutoML_cc37dd10-6e13-4fe0-ade7-4ae1c56b261d_8\", \"run_number\": 13, \"metric\": null, \"status\": \"Completed\", \"run_type\": \"azureml.scriptrun\", \"training_percent\": \"100\", \"start_time\": \"2021-01-26T21:10:23.347636Z\", \"end_time\": \"2021-01-26T21:10:59.373102Z\", \"created_time\": \"2021-01-26T21:10:12.416005Z\", \"created_time_dt\": \"2021-01-26T21:10:12.416005Z\", \"duration\": \"0:00:46\", \"iteration\": \"8\", \"goal\": \"normalized_root_mean_squared_error_min\", \"run_name\": \"MinMaxScaler, ElasticNet\", \"run_properties\": \"copy=True, feature_range=(0, 1\", \"primary_metric\": 0.12585152, \"best_metric\": 0.10871089}, {\"run_id\": \"AutoML_cc37dd10-6e13-4fe0-ade7-4ae1c56b261d_9\", \"run_number\": 14, \"metric\": null, \"status\": \"Completed\", \"run_type\": \"azureml.scriptrun\", \"training_percent\": \"100\", \"start_time\": \"2021-01-26T21:11:13.297988Z\", \"end_time\": \"2021-01-26T21:11:52.253566Z\", \"created_time\": \"2021-01-26T21:11:02.137977Z\", \"created_time_dt\": \"2021-01-26T21:11:02.137977Z\", \"duration\": \"0:00:50\", \"iteration\": \"9\", \"goal\": \"normalized_root_mean_squared_error_min\", \"run_name\": \"StandardScalerWrapper, DecisionTree\", \"run_properties\": \"<azureml.automl.runtime.shared.model_wrappers.StandardScalerWrapper object at 0x7f93a63238d0\", \"primary_metric\": 0.12341924, \"best_metric\": 0.10871089}, {\"run_id\": \"AutoML_cc37dd10-6e13-4fe0-ade7-4ae1c56b261d_10\", \"run_number\": 15, \"metric\": null, \"status\": \"Completed\", \"run_type\": \"azureml.scriptrun\", \"training_percent\": \"100\", \"start_time\": \"2021-01-26T21:12:08.775641Z\", \"end_time\": \"2021-01-26T21:12:55.804123Z\", \"created_time\": \"2021-01-26T21:11:54.892718Z\", \"created_time_dt\": \"2021-01-26T21:11:54.892718Z\", \"duration\": \"0:01:00\", \"iteration\": \"10\", \"goal\": \"normalized_root_mean_squared_error_min\", \"run_name\": \"StandardScalerWrapper, DecisionTree\", \"run_properties\": \"<azureml.automl.runtime.shared.model_wrappers.StandardScalerWrapper object at 0x7fc9542ef7f0\", \"primary_metric\": 0.12330405, \"best_metric\": 0.10871089}, {\"run_id\": \"AutoML_cc37dd10-6e13-4fe0-ade7-4ae1c56b261d_11\", \"run_number\": 16, \"metric\": null, \"status\": \"Completed\", \"run_type\": \"azureml.scriptrun\", \"training_percent\": \"100\", \"start_time\": \"2021-01-26T21:13:09.29151Z\", \"end_time\": \"2021-01-26T21:13:47.962327Z\", \"created_time\": \"2021-01-26T21:12:58.380521Z\", \"created_time_dt\": \"2021-01-26T21:12:58.380521Z\", \"duration\": \"0:00:49\", \"iteration\": \"11\", \"goal\": \"normalized_root_mean_squared_error_min\", \"run_name\": \"RobustScaler, DecisionTree\", \"run_properties\": \"copy=True, quantile_range=[10, 90], with_centering=True,\\n             with_scaling=False\", \"primary_metric\": 0.12410492, \"best_metric\": 0.10871089}, {\"run_id\": \"AutoML_cc37dd10-6e13-4fe0-ade7-4ae1c56b261d_12\", \"run_number\": 17, \"metric\": null, \"status\": \"Completed\", \"run_type\": \"azureml.scriptrun\", \"training_percent\": \"100\", \"start_time\": \"2021-01-26T21:14:01.28968Z\", \"end_time\": \"2021-01-26T21:14:42.858704Z\", \"created_time\": \"2021-01-26T21:13:50.644564Z\", \"created_time_dt\": \"2021-01-26T21:13:50.644564Z\", \"duration\": \"0:00:52\", \"iteration\": \"12\", \"goal\": \"normalized_root_mean_squared_error_min\", \"run_name\": \"RobustScaler, ElasticNet\", \"run_properties\": \"copy=True, quantile_range=[25, 75], with_centering=True,\\n             with_scaling=False\", \"primary_metric\": 0.12594537, \"best_metric\": 0.10871089}, {\"run_id\": \"AutoML_cc37dd10-6e13-4fe0-ade7-4ae1c56b261d_13\", \"run_number\": 18, \"metric\": null, \"status\": \"Completed\", \"run_type\": \"azureml.scriptrun\", \"training_percent\": \"100\", \"start_time\": \"2021-01-26T21:14:57.460634Z\", \"end_time\": \"2021-01-26T21:15:39.707396Z\", \"created_time\": \"2021-01-26T21:14:45.124839Z\", \"created_time_dt\": \"2021-01-26T21:14:45.124839Z\", \"duration\": \"0:00:54\", \"iteration\": \"13\", \"goal\": \"normalized_root_mean_squared_error_min\", \"run_name\": \"RobustScaler, DecisionTree\", \"run_properties\": \"copy=True, quantile_range=[10, 90], with_centering=False,\\n             with_scaling=False\", \"primary_metric\": 0.12345581, \"best_metric\": 0.10871089}, {\"run_id\": \"AutoML_cc37dd10-6e13-4fe0-ade7-4ae1c56b261d_14\", \"run_number\": 19, \"metric\": null, \"status\": \"Completed\", \"run_type\": \"azureml.scriptrun\", \"training_percent\": \"100\", \"start_time\": \"2021-01-26T21:15:52.235705Z\", \"end_time\": \"2021-01-26T21:16:28.313994Z\", \"created_time\": \"2021-01-26T21:15:42.053672Z\", \"created_time_dt\": \"2021-01-26T21:15:42.053672Z\", \"duration\": \"0:00:46\", \"iteration\": \"14\", \"goal\": \"normalized_root_mean_squared_error_min\", \"run_name\": \"RobustScaler, DecisionTree\", \"run_properties\": \"copy=True, quantile_range=[10, 90], with_centering=False,\\n             with_scaling=False\", \"primary_metric\": 0.12336948, \"best_metric\": 0.10871089}, {\"run_id\": \"AutoML_cc37dd10-6e13-4fe0-ade7-4ae1c56b261d_15\", \"run_number\": 20, \"metric\": null, \"status\": \"Completed\", \"run_type\": \"azureml.scriptrun\", \"training_percent\": \"100\", \"start_time\": \"2021-01-26T21:16:42.770696Z\", \"end_time\": \"2021-01-26T21:17:22.184357Z\", \"created_time\": \"2021-01-26T21:16:31.30708Z\", \"created_time_dt\": \"2021-01-26T21:16:31.30708Z\", \"duration\": \"0:00:50\", \"iteration\": \"15\", \"goal\": \"normalized_root_mean_squared_error_min\", \"run_name\": \"StandardScalerWrapper, DecisionTree\", \"run_properties\": \"<azureml.automl.runtime.shared.model_wrappers.StandardScalerWrapper object at 0x7f6e0cd02d68\", \"primary_metric\": 0.12350691, \"best_metric\": 0.10871089}, {\"run_id\": \"AutoML_cc37dd10-6e13-4fe0-ade7-4ae1c56b261d_16\", \"run_number\": 21, \"metric\": null, \"status\": \"Completed\", \"run_type\": \"azureml.scriptrun\", \"training_percent\": \"100\", \"start_time\": \"2021-01-26T21:17:34.25725Z\", \"end_time\": \"2021-01-26T21:18:39.008439Z\", \"created_time\": \"2021-01-26T21:17:23.580686Z\", \"created_time_dt\": \"2021-01-26T21:17:23.580686Z\", \"duration\": \"0:01:15\", \"iteration\": \"16\", \"goal\": \"normalized_root_mean_squared_error_min\", \"run_name\": \"VotingEnsemble\", \"run_properties\": \"estimators=[('0',\\n                                          Pipeline(memory=None,\\n                                                   steps=[('maxabsscaler',\\n                                                           MaxAbsScaler(copy=True\", \"primary_metric\": 0.1086345, \"best_metric\": 0.1086345}, {\"run_id\": \"AutoML_cc37dd10-6e13-4fe0-ade7-4ae1c56b261d_17\", \"run_number\": 22, \"metric\": null, \"status\": \"Completed\", \"run_type\": \"azureml.scriptrun\", \"training_percent\": \"100\", \"start_time\": \"2021-01-26T21:18:51.531348Z\", \"end_time\": \"2021-01-26T21:19:53.862779Z\", \"created_time\": \"2021-01-26T21:18:40.239909Z\", \"created_time_dt\": \"2021-01-26T21:18:40.239909Z\", \"duration\": \"0:01:13\", \"iteration\": \"17\", \"goal\": \"normalized_root_mean_squared_error_min\", \"run_name\": \"StackEnsemble\", \"run_properties\": \"base_learners=[('0',\\n                                       Pipeline(memory=None,\\n                                                steps=[('maxabsscaler',\\n                                                        MaxAbsScaler(copy=True\", \"primary_metric\": 0.10870979, \"best_metric\": 0.1086345}], \"children_metrics\": {\"categories\": [0], \"series\": {\"root_mean_squared_error\": [{\"categories\": [\"0\", \"1\", \"2\", \"3\", \"4\", \"5\", \"6\", \"7\", \"8\", \"9\", \"10\", \"11\", \"12\", \"13\", \"14\", \"15\", \"16\", \"17\"], \"mode\": \"markers\", \"name\": \"root_mean_squared_error\", \"stepped\": false, \"type\": \"scatter\", \"data\": [0.6522653559830675, 0.6886954685524896, 0.7529129107610011, 0.7421368761470248, 0.7388403096937001, 0.7386599911926834, 0.7623467164023745, 0.7405858897292562, 0.7551090986983849, 0.7405154407415214, 0.7398242831994742, 0.7446295067485897, 0.7556722473671349, 0.7407348469636205, 0.7402168976209791, 0.7410414459558273, 0.6518070250471746, 0.6522587618367073]}, {\"categories\": [\"0\", \"1\", \"2\", \"3\", \"4\", \"5\", \"6\", \"7\", \"8\", \"9\", \"10\", \"11\", \"12\", \"13\", \"14\", \"15\", \"16\", \"17\"], \"mode\": \"lines\", \"name\": \"root_mean_squared_error_min\", \"stepped\": true, \"type\": \"scatter\", \"data\": [0.6522653559830675, 0.6522653559830675, 0.6522653559830675, 0.6522653559830675, 0.6522653559830675, 0.6522653559830675, 0.6522653559830675, 0.6522653559830675, 0.6522653559830675, 0.6522653559830675, 0.6522653559830675, 0.6522653559830675, 0.6522653559830675, 0.6522653559830675, 0.6522653559830675, 0.6522653559830675, 0.6518070250471746, 0.6518070250471746]}], \"root_mean_squared_log_error\": [{\"categories\": [\"0\", \"1\", \"2\", \"3\", \"4\", \"5\", \"6\", \"7\", \"8\", \"9\", \"10\", \"11\", \"12\", \"13\", \"14\", \"15\", \"16\", \"17\"], \"mode\": \"markers\", \"name\": \"root_mean_squared_log_error\", \"stepped\": false, \"type\": \"scatter\", \"data\": [0.09723169566845599, 0.1019248833794056, 0.1113783285411305, 0.10979652895272354, 0.10939063443239931, 0.10938951619736155, 0.1124615311424911, 0.10957528382462736, 0.11137175653422242, 0.10956204525249573, 0.10935358264821331, 0.11028759581459036, 0.111419371487778, 0.10969586480880453, 0.10952906227017016, 0.10967949654478379, 0.09714743866824861, 0.09716900583081911]}, {\"categories\": [\"0\", \"1\", \"2\", \"3\", \"4\", \"5\", \"6\", \"7\", \"8\", \"9\", \"10\", \"11\", \"12\", \"13\", \"14\", \"15\", \"16\", \"17\"], \"mode\": \"lines\", \"name\": \"root_mean_squared_log_error_min\", \"stepped\": true, \"type\": \"scatter\", \"data\": [0.09723169566845599, 0.09723169566845599, 0.09723169566845599, 0.09723169566845599, 0.09723169566845599, 0.09723169566845599, 0.09723169566845599, 0.09723169566845599, 0.09723169566845599, 0.09723169566845599, 0.09723169566845599, 0.09723169566845599, 0.09723169566845599, 0.09723169566845599, 0.09723169566845599, 0.09723169566845599, 0.09714743866824861, 0.09714743866824861]}], \"explained_variance\": [{\"categories\": [\"0\", \"1\", \"2\", \"3\", \"4\", \"5\", \"6\", \"7\", \"8\", \"9\", \"10\", \"11\", \"12\", \"13\", \"14\", \"15\", \"16\", \"17\"], \"mode\": \"markers\", \"name\": \"explained_variance\", \"stepped\": false, \"type\": \"scatter\", \"data\": [0.4501949230636651, 0.38694081041428036, 0.2673571206219933, 0.28854704507318113, 0.29406123605810597, 0.29444512425131963, 0.24890536728877616, 0.29107629901909043, 0.2630011472114112, 0.2912330095921547, 0.29224679609550297, 0.28286696676631295, 0.2618365394310412, 0.29034813873440274, 0.29167198458813853, 0.29018666632351914, 0.45097951641763884, 0.45046469807859585]}, {\"categories\": [\"0\", \"1\", \"2\", \"3\", \"4\", \"5\", \"6\", \"7\", \"8\", \"9\", \"10\", \"11\", \"12\", \"13\", \"14\", \"15\", \"16\", \"17\"], \"mode\": \"lines\", \"name\": \"explained_variance_max\", \"stepped\": true, \"type\": \"scatter\", \"data\": [0.4501949230636651, 0.4501949230636651, 0.4501949230636651, 0.4501949230636651, 0.4501949230636651, 0.4501949230636651, 0.4501949230636651, 0.4501949230636651, 0.4501949230636651, 0.4501949230636651, 0.4501949230636651, 0.4501949230636651, 0.4501949230636651, 0.4501949230636651, 0.4501949230636651, 0.4501949230636651, 0.45097951641763884, 0.45097951641763884]}], \"mean_absolute_error\": [{\"categories\": [\"0\", \"1\", \"2\", \"3\", \"4\", \"5\", \"6\", \"7\", \"8\", \"9\", \"10\", \"11\", \"12\", \"13\", \"14\", \"15\", \"16\", \"17\"], \"mode\": \"markers\", \"name\": \"mean_absolute_error\", \"stepped\": false, \"type\": \"scatter\", \"data\": [0.49152659729407144, 0.5379368942251569, 0.586334622274514, 0.5779178342951468, 0.5781811735629097, 0.5752928824412237, 0.5960398542128886, 0.5784401142838418, 0.5893431623249838, 0.5781420820713945, 0.5777429287285134, 0.577451889771162, 0.589018223525144, 0.5792085638399652, 0.5768501648776182, 0.5790883123847099, 0.49373082294024817, 0.49351014089176937]}, {\"categories\": [\"0\", \"1\", \"2\", \"3\", \"4\", \"5\", \"6\", \"7\", \"8\", \"9\", \"10\", \"11\", \"12\", \"13\", \"14\", \"15\", \"16\", \"17\"], \"mode\": \"lines\", \"name\": \"mean_absolute_error_min\", \"stepped\": true, \"type\": \"scatter\", \"data\": [0.49152659729407144, 0.49152659729407144, 0.49152659729407144, 0.49152659729407144, 0.49152659729407144, 0.49152659729407144, 0.49152659729407144, 0.49152659729407144, 0.49152659729407144, 0.49152659729407144, 0.49152659729407144, 0.49152659729407144, 0.49152659729407144, 0.49152659729407144, 0.49152659729407144, 0.49152659729407144, 0.49152659729407144, 0.49152659729407144]}], \"normalized_median_absolute_error\": [{\"categories\": [\"0\", \"1\", \"2\", \"3\", \"4\", \"5\", \"6\", \"7\", \"8\", \"9\", \"10\", \"11\", \"12\", \"13\", \"14\", \"15\", \"16\", \"17\"], \"mode\": \"markers\", \"name\": \"normalized_median_absolute_error\", \"stepped\": false, \"type\": \"scatter\", \"data\": [0.062455915871818604, 0.07282031377156575, 0.0809186601685937, 0.0771537213954334, 0.08008291098329759, 0.08093617561967317, 0.08093047071722737, 0.0784988543879962, 0.08040665923866888, 0.07995731015738003, 0.07980587737038836, 0.07936787751509228, 0.08116555214406744, 0.07858491907511518, 0.08007313145784185, 0.07641404991948472, 0.06362073752639943, 0.06378543136888723]}, {\"categories\": [\"0\", \"1\", \"2\", \"3\", \"4\", \"5\", \"6\", \"7\", \"8\", \"9\", \"10\", \"11\", \"12\", \"13\", \"14\", \"15\", \"16\", \"17\"], \"mode\": \"lines\", \"name\": \"normalized_median_absolute_error_min\", \"stepped\": true, \"type\": \"scatter\", \"data\": [0.062455915871818604, 0.062455915871818604, 0.062455915871818604, 0.062455915871818604, 0.062455915871818604, 0.062455915871818604, 0.062455915871818604, 0.062455915871818604, 0.062455915871818604, 0.062455915871818604, 0.062455915871818604, 0.062455915871818604, 0.062455915871818604, 0.062455915871818604, 0.062455915871818604, 0.062455915871818604, 0.062455915871818604, 0.062455915871818604]}], \"r2_score\": [{\"categories\": [\"0\", \"1\", \"2\", \"3\", \"4\", \"5\", \"6\", \"7\", \"8\", \"9\", \"10\", \"11\", \"12\", \"13\", \"14\", \"15\", \"16\", \"17\"], \"mode\": \"markers\", \"name\": \"r2_score\", \"stepped\": false, \"type\": \"scatter\", \"data\": [0.44961235254087306, 0.386433228121527, 0.2665886304370927, 0.28749369207757514, 0.29366318299975874, 0.2939215555201277, 0.24806108444646569, 0.29038796915535786, 0.2622257018546588, 0.2906665202748785, 0.29177277211882713, 0.28233856525743156, 0.26110839125959007, 0.289859923018199, 0.29111293540845606, 0.28936127642021214, 0.45041146722339126, 0.4496363413197715]}, {\"categories\": [\"0\", \"1\", \"2\", \"3\", \"4\", \"5\", \"6\", \"7\", \"8\", \"9\", \"10\", \"11\", \"12\", \"13\", \"14\", \"15\", \"16\", \"17\"], \"mode\": \"lines\", \"name\": \"r2_score_max\", \"stepped\": true, \"type\": \"scatter\", \"data\": [0.44961235254087306, 0.44961235254087306, 0.44961235254087306, 0.44961235254087306, 0.44961235254087306, 0.44961235254087306, 0.44961235254087306, 0.44961235254087306, 0.44961235254087306, 0.44961235254087306, 0.44961235254087306, 0.44961235254087306, 0.44961235254087306, 0.44961235254087306, 0.44961235254087306, 0.44961235254087306, 0.45041146722339126, 0.45041146722339126]}], \"spearman_correlation\": [{\"categories\": [\"0\", \"1\", \"2\", \"3\", \"4\", \"5\", \"6\", \"7\", \"8\", \"9\", \"10\", \"11\", \"12\", \"13\", \"14\", \"15\", \"16\", \"17\"], \"mode\": \"markers\", \"name\": \"spearman_correlation\", \"stepped\": false, \"type\": \"scatter\", \"data\": [0.6760305969776285, 0.6353258843493292, 0.537174039019354, 0.5639204135947672, 0.5578800992255294, 0.5642177377045374, 0.5211615004190693, 0.555768779119773, 0.5297835651346157, 0.5560639186524889, 0.5651358212658255, 0.5585369814719625, 0.5282762733364738, 0.5582704528166595, 0.5566986063724549, 0.5634095202545375, 0.6772645212505974, 0.677123403939615]}, {\"categories\": [\"0\", \"1\", \"2\", \"3\", \"4\", \"5\", \"6\", \"7\", \"8\", \"9\", \"10\", \"11\", \"12\", \"13\", \"14\", \"15\", \"16\", \"17\"], \"mode\": \"lines\", \"name\": \"spearman_correlation_max\", \"stepped\": true, \"type\": \"scatter\", \"data\": [0.6760305969776285, 0.6760305969776285, 0.6760305969776285, 0.6760305969776285, 0.6760305969776285, 0.6760305969776285, 0.6760305969776285, 0.6760305969776285, 0.6760305969776285, 0.6760305969776285, 0.6760305969776285, 0.6760305969776285, 0.6760305969776285, 0.6760305969776285, 0.6760305969776285, 0.6760305969776285, 0.6772645212505974, 0.6772645212505974]}], \"normalized_mean_absolute_error\": [{\"categories\": [\"0\", \"1\", \"2\", \"3\", \"4\", \"5\", \"6\", \"7\", \"8\", \"9\", \"10\", \"11\", \"12\", \"13\", \"14\", \"15\", \"16\", \"17\"], \"mode\": \"markers\", \"name\": \"normalized_mean_absolute_error\", \"stepped\": false, \"type\": \"scatter\", \"data\": [0.0819210995490119, 0.08965614903752614, 0.09772243704575236, 0.09631963904919114, 0.09636352892715161, 0.09588214707353729, 0.09933997570214811, 0.09640668571397362, 0.09822386038749731, 0.09635701367856574, 0.09629048812141891, 0.096241981628527, 0.09816970392085733, 0.09653476063999421, 0.09614169414626969, 0.09651471873078499, 0.08228847049004136, 0.08225169014862824]}, {\"categories\": [\"0\", \"1\", \"2\", \"3\", \"4\", \"5\", \"6\", \"7\", \"8\", \"9\", \"10\", \"11\", \"12\", \"13\", \"14\", \"15\", \"16\", \"17\"], \"mode\": \"lines\", \"name\": \"normalized_mean_absolute_error_min\", \"stepped\": true, \"type\": \"scatter\", \"data\": [0.0819210995490119, 0.0819210995490119, 0.0819210995490119, 0.0819210995490119, 0.0819210995490119, 0.0819210995490119, 0.0819210995490119, 0.0819210995490119, 0.0819210995490119, 0.0819210995490119, 0.0819210995490119, 0.0819210995490119, 0.0819210995490119, 0.0819210995490119, 0.0819210995490119, 0.0819210995490119, 0.0819210995490119, 0.0819210995490119]}], \"normalized_root_mean_squared_log_error\": [{\"categories\": [\"0\", \"1\", \"2\", \"3\", \"4\", \"5\", \"6\", \"7\", \"8\", \"9\", \"10\", \"11\", \"12\", \"13\", \"14\", \"15\", \"16\", \"17\"], \"mode\": \"markers\", \"name\": \"normalized_root_mean_squared_log_error\", \"stepped\": false, \"type\": \"scatter\", \"data\": [0.10611445940261888, 0.11123640110484509, 0.12155348151707306, 0.11982717398892466, 0.11938419829768962, 0.11938297790442484, 0.122735641898795, 0.11958571664312827, 0.1215463091135122, 0.11957126863915846, 0.11934376158595927, 0.12036310308302607, 0.12159827401056862, 0.11971731350423649, 0.11953527244146897, 0.11969944989015491, 0.10602250496362216, 0.10604604243030195]}, {\"categories\": [\"0\", \"1\", \"2\", \"3\", \"4\", \"5\", \"6\", \"7\", \"8\", \"9\", \"10\", \"11\", \"12\", \"13\", \"14\", \"15\", \"16\", \"17\"], \"mode\": \"lines\", \"name\": \"normalized_root_mean_squared_log_error_min\", \"stepped\": true, \"type\": \"scatter\", \"data\": [0.10611445940261888, 0.10611445940261888, 0.10611445940261888, 0.10611445940261888, 0.10611445940261888, 0.10611445940261888, 0.10611445940261888, 0.10611445940261888, 0.10611445940261888, 0.10611445940261888, 0.10611445940261888, 0.10611445940261888, 0.10611445940261888, 0.10611445940261888, 0.10611445940261888, 0.10611445940261888, 0.10602250496362216, 0.10602250496362216]}], \"mean_absolute_percentage_error\": [{\"categories\": [\"0\", \"1\", \"2\", \"3\", \"4\", \"5\", \"6\", \"7\", \"8\", \"9\", \"10\", \"11\", \"12\", \"13\", \"14\", \"15\", \"16\", \"17\"], \"mode\": \"markers\", \"name\": \"mean_absolute_percentage_error\", \"stepped\": false, \"type\": \"scatter\", \"data\": [8.687468716542474, 9.453687459206213, 10.303027543560788, 10.15336014039319, 10.169453739107293, 10.113709433542898, 10.49618318667708, 10.170879477185913, 10.36272052075174, 10.169535552263003, 10.141921354106142, 10.160082725702159, 10.352415075590958, 10.186778519337546, 10.144647006210224, 10.176922736448017, 8.72561924105931, 8.7094745660121]}, {\"categories\": [\"0\", \"1\", \"2\", \"3\", \"4\", \"5\", \"6\", \"7\", \"8\", \"9\", \"10\", \"11\", \"12\", \"13\", \"14\", \"15\", \"16\", \"17\"], \"mode\": \"lines\", \"name\": \"mean_absolute_percentage_error_min\", \"stepped\": true, \"type\": \"scatter\", \"data\": [8.687468716542474, 8.687468716542474, 8.687468716542474, 8.687468716542474, 8.687468716542474, 8.687468716542474, 8.687468716542474, 8.687468716542474, 8.687468716542474, 8.687468716542474, 8.687468716542474, 8.687468716542474, 8.687468716542474, 8.687468716542474, 8.687468716542474, 8.687468716542474, 8.687468716542474, 8.687468716542474]}], \"median_absolute_error\": [{\"categories\": [\"0\", \"1\", \"2\", \"3\", \"4\", \"5\", \"6\", \"7\", \"8\", \"9\", \"10\", \"11\", \"12\", \"13\", \"14\", \"15\", \"16\", \"17\"], \"mode\": \"markers\", \"name\": \"median_absolute_error\", \"stepped\": false, \"type\": \"scatter\", \"data\": [0.37473549523091154, 0.4369218826293945, 0.48551196101156224, 0.4629223283726004, 0.4804974658997855, 0.48561705371803904, 0.4855828243033642, 0.47099312632797724, 0.4824399554320132, 0.4797438609442802, 0.4788352642223302, 0.4762072650905537, 0.4869933128644046, 0.4715095144506911, 0.48043878874705115, 0.45848429951690833, 0.38172442515839666, 0.3827125882133234]}, {\"categories\": [\"0\", \"1\", \"2\", \"3\", \"4\", \"5\", \"6\", \"7\", \"8\", \"9\", \"10\", \"11\", \"12\", \"13\", \"14\", \"15\", \"16\", \"17\"], \"mode\": \"lines\", \"name\": \"median_absolute_error_min\", \"stepped\": true, \"type\": \"scatter\", \"data\": [0.37473549523091154, 0.37473549523091154, 0.37473549523091154, 0.37473549523091154, 0.37473549523091154, 0.37473549523091154, 0.37473549523091154, 0.37473549523091154, 0.37473549523091154, 0.37473549523091154, 0.37473549523091154, 0.37473549523091154, 0.37473549523091154, 0.37473549523091154, 0.37473549523091154, 0.37473549523091154, 0.37473549523091154, 0.37473549523091154]}], \"normalized_root_mean_squared_error\": [{\"categories\": [\"0\", \"1\", \"2\", \"3\", \"4\", \"5\", \"6\", \"7\", \"8\", \"9\", \"10\", \"11\", \"12\", \"13\", \"14\", \"15\", \"16\", \"17\"], \"mode\": \"markers\", \"name\": \"normalized_root_mean_squared_error\", \"stepped\": false, \"type\": \"scatter\", \"data\": [0.10871089266384457, 0.11478257809208162, 0.1254854851268335, 0.12368947935783747, 0.12314005161561667, 0.1231099985321139, 0.12705778606706244, 0.12343098162154272, 0.1258515164497308, 0.12341924012358689, 0.12330404719991236, 0.1241049177914316, 0.12594537456118915, 0.12345580782727009, 0.12336948293682984, 0.12350690765930457, 0.10863450417452909, 0.10870979363945121]}, {\"categories\": [\"0\", \"1\", \"2\", \"3\", \"4\", \"5\", \"6\", \"7\", \"8\", \"9\", \"10\", \"11\", \"12\", \"13\", \"14\", \"15\", \"16\", \"17\"], \"mode\": \"lines\", \"name\": \"normalized_root_mean_squared_error_min\", \"stepped\": true, \"type\": \"scatter\", \"data\": [0.10871089266384457, 0.10871089266384457, 0.10871089266384457, 0.10871089266384457, 0.10871089266384457, 0.10871089266384457, 0.10871089266384457, 0.10871089266384457, 0.10871089266384457, 0.10871089266384457, 0.10871089266384457, 0.10871089266384457, 0.10871089266384457, 0.10871089266384457, 0.10871089266384457, 0.10871089266384457, 0.10863450417452909, 0.10863450417452909]}]}, \"metricName\": null, \"primaryMetricName\": \"normalized_root_mean_squared_error\", \"showLegend\": false}, \"run_metrics\": [{\"name\": \"experiment_status\", \"run_id\": \"AutoML_cc37dd10-6e13-4fe0-ade7-4ae1c56b261d\", \"categories\": [0, 1, 2, 3, 4, 5, 6, 7, 8, 9, 10, 11, 12, 13], \"series\": [{\"data\": [\"DatasetEvaluation\", \"FeaturesGeneration\", \"DatasetFeaturization\", \"DatasetFeaturizationCompleted\", \"DatasetCrossValidationSplit\", \"ModelSelection\", \"BestRunExplainModel\", \"ModelExplanationDataSetSetup\", \"PickSurrogateModel\", \"EngineeredFeatureExplanations\", \"EngineeredFeatureExplanations\", \"RawFeaturesExplanations\", \"RawFeaturesExplanations\", \"BestRunExplainModel\"]}]}, {\"name\": \"experiment_status_description\", \"run_id\": \"AutoML_cc37dd10-6e13-4fe0-ade7-4ae1c56b261d\", \"categories\": [0, 1, 2, 3, 4, 5, 6, 7, 8, 9, 10, 11, 12, 13], \"series\": [{\"data\": [\"Gathering dataset statistics.\", \"Generating features for the dataset.\", \"Beginning to fit featurizers and featurize the dataset.\", \"Completed fit featurizers and featurizing the dataset.\", \"Generating individually featurized CV splits.\", \"Beginning model selection.\", \"Best run model explanations started\", \"Model explanations data setup completed\", \"Choosing LightGBM as the surrogate model for explanations\", \"Computation of engineered features started\", \"Computation of engineered features completed\", \"Computation of raw features started\", \"Computation of raw features completed\", \"Best run model explanations completed\"]}]}, {\"name\": \"mean_absolute_error\", \"run_id\": \"AutoML_cc37dd10-6e13-4fe0-ade7-4ae1c56b261d\", \"categories\": [0], \"series\": [{\"data\": [0.49373082294024817]}]}, {\"name\": \"spearman_correlation\", \"run_id\": \"AutoML_cc37dd10-6e13-4fe0-ade7-4ae1c56b261d\", \"categories\": [0], \"series\": [{\"data\": [0.6772645212505974]}]}, {\"name\": \"normalized_root_mean_squared_log_error\", \"run_id\": \"AutoML_cc37dd10-6e13-4fe0-ade7-4ae1c56b261d\", \"categories\": [0], \"series\": [{\"data\": [0.10602250496362216]}]}, {\"name\": \"mean_absolute_percentage_error\", \"run_id\": \"AutoML_cc37dd10-6e13-4fe0-ade7-4ae1c56b261d\", \"categories\": [0], \"series\": [{\"data\": [8.72561924105931]}]}, {\"name\": \"normalized_mean_absolute_error\", \"run_id\": \"AutoML_cc37dd10-6e13-4fe0-ade7-4ae1c56b261d\", \"categories\": [0], \"series\": [{\"data\": [0.08228847049004136]}]}, {\"name\": \"r2_score\", \"run_id\": \"AutoML_cc37dd10-6e13-4fe0-ade7-4ae1c56b261d\", \"categories\": [0], \"series\": [{\"data\": [0.45041146722339126]}]}, {\"name\": \"median_absolute_error\", \"run_id\": \"AutoML_cc37dd10-6e13-4fe0-ade7-4ae1c56b261d\", \"categories\": [0], \"series\": [{\"data\": [0.38172442515839666]}]}, {\"name\": \"root_mean_squared_log_error\", \"run_id\": \"AutoML_cc37dd10-6e13-4fe0-ade7-4ae1c56b261d\", \"categories\": [0], \"series\": [{\"data\": [0.09714743866824861]}]}, {\"name\": \"normalized_median_absolute_error\", \"run_id\": \"AutoML_cc37dd10-6e13-4fe0-ade7-4ae1c56b261d\", \"categories\": [0], \"series\": [{\"data\": [0.06362073752639943]}]}, {\"name\": \"explained_variance\", \"run_id\": \"AutoML_cc37dd10-6e13-4fe0-ade7-4ae1c56b261d\", \"categories\": [0], \"series\": [{\"data\": [0.45097951641763884]}]}, {\"name\": \"root_mean_squared_error\", \"run_id\": \"AutoML_cc37dd10-6e13-4fe0-ade7-4ae1c56b261d\", \"categories\": [0], \"series\": [{\"data\": [0.6518070250471746]}]}, {\"name\": \"normalized_root_mean_squared_error\", \"run_id\": \"AutoML_cc37dd10-6e13-4fe0-ade7-4ae1c56b261d\", \"categories\": [0], \"series\": [{\"data\": [0.10863450417452909]}]}], \"run_logs\": \"\\nRun is completed.\", \"graph\": {}, \"widget_settings\": {\"childWidgetDisplay\": \"popup\", \"send_telemetry\": false, \"log_level\": \"INFO\", \"sdk_version\": \"1.20.0\"}, \"loading\": false}"
          },
          "metadata": {}
        }
      ],
      "execution_count": 34,
      "metadata": {
        "collapsed": true,
        "jupyter": {
          "source_hidden": false,
          "outputs_hidden": false
        },
        "nteract": {
          "transient": {
            "deleting": false
          }
        },
        "gather": {
          "logged": 1611696101892
        }
      }
    },
    {
      "cell_type": "markdown",
      "source": [
        "parametry najlepszego modelu"
      ],
      "metadata": {
        "nteract": {
          "transient": {
            "deleting": false
          }
        }
      }
    },
    {
      "cell_type": "code",
      "source": [
        "best_run, fitted_model = run.get_output()\n",
        "print(best_run)\n",
        "print(fitted_model)"
      ],
      "outputs": [
        {
          "output_type": "stream",
          "name": "stdout",
          "text": [
            "Run(Experiment: quality-wine-regression-01-26-2021-20,\n",
            "Id: AutoML_cc37dd10-6e13-4fe0-ade7-4ae1c56b261d_16,\n",
            "Type: azureml.scriptrun,\n",
            "Status: Completed)\n",
            "RegressionPipeline(pipeline=Pipeline(memory=None,\n",
            "                                     steps=[('datatransformer',\n",
            "                                             DataTransformer(enable_dnn=None,\n",
            "                                                             enable_feature_sweeping=None,\n",
            "                                                             feature_sweeping_config=None,\n",
            "                                                             feature_sweeping_timeout=None,\n",
            "                                                             featurization_config=None,\n",
            "                                                             force_text_dnn=None,\n",
            "                                                             is_cross_validation=None,\n",
            "                                                             is_onnx_compatible=None,\n",
            "                                                             logger=None,\n",
            "                                                             observer=None,\n",
            "                                                             task=None,\n",
            "                                                             working_dir=None)),\n",
            "                                            ('pre...\n",
            "                                                                                                        RobustScaler(copy=True,\n",
            "                                                                                                                     quantile_range=[10,\n",
            "                                                                                                                                     90],\n",
            "                                                                                                                     with_centering=False,\n",
            "                                                                                                                     with_scaling=True)),\n",
            "                                                                                                       ('lassolars',\n",
            "                                                                                                        LassoLars(alpha=0.001,\n",
            "                                                                                                                  copy_X=True,\n",
            "                                                                                                                  eps=2.220446049250313e-16,\n",
            "                                                                                                                  fit_intercept=True,\n",
            "                                                                                                                  fit_path=True,\n",
            "                                                                                                                  max_iter=500,\n",
            "                                                                                                                  normalize=False,\n",
            "                                                                                                                  positive=False,\n",
            "                                                                                                                  precompute='auto',\n",
            "                                                                                                                  verbose=False))],\n",
            "                                                                                                verbose=False))],\n",
            "                                                                          weights=[0.9333333333333333,\n",
            "                                                                                   0.06666666666666667]))],\n",
            "                                     verbose=False),\n",
            "                   stddev=None)\n"
          ]
        }
      ],
      "execution_count": 37,
      "metadata": {
        "collapsed": true,
        "jupyter": {
          "source_hidden": false,
          "outputs_hidden": false
        },
        "nteract": {
          "transient": {
            "deleting": false
          }
        },
        "gather": {
          "logged": 1611696147402
        }
      }
    },
    {
      "cell_type": "markdown",
      "source": [
        "Zamiana danych testowych na DataFrame z biblioteki pandas i wydzielnie danych wejściowych, na których będą wyznaczane wyniki modelu i wyjściowych z którymi będize porównywany wynik modelu."
      ],
      "metadata": {
        "nteract": {
          "transient": {
            "deleting": false
          }
        }
      }
    },
    {
      "cell_type": "code",
      "source": [
        "test_dataset_df = test_dataset.to_pandas_dataframe()\n",
        "if 'quality' in test_dataset_df.columns:\n",
        "    y_test_df = test_dataset_df['quality']\n",
        "\n",
        "x_test_df = test_dataset_df.drop('quality', axis = 1)"
      ],
      "outputs": [],
      "execution_count": 38,
      "metadata": {
        "collapsed": true,
        "jupyter": {
          "source_hidden": false,
          "outputs_hidden": false
        },
        "nteract": {
          "transient": {
            "deleting": false
          }
        },
        "gather": {
          "logged": 1611696180303
        }
      }
    },
    {
      "cell_type": "markdown",
      "source": [
        "Sprawdzenie wyników dla danych tesowych"
      ],
      "metadata": {
        "nteract": {
          "transient": {
            "deleting": false
          }
        }
      }
    },
    {
      "cell_type": "code",
      "source": [
        "y_predictions = fitted_model.predict(x_test_df)\n",
        "\n",
        "print('10 predictions: ')\n",
        "print(y_predictions[:10])\n"
      ],
      "outputs": [
        {
          "output_type": "stream",
          "name": "stdout",
          "text": [
            "10 predictions: \n",
            "[5.44334316 6.51919566 5.98912183 5.78267409 5.03962486 6.08042763\n",
            " 5.97142849 5.2151807  5.25955008 5.49487021]\n"
          ]
        }
      ],
      "execution_count": 39,
      "metadata": {
        "collapsed": true,
        "jupyter": {
          "source_hidden": false,
          "outputs_hidden": false
        },
        "nteract": {
          "transient": {
            "deleting": false
          }
        },
        "gather": {
          "logged": 1611696180387
        }
      }
    },
    {
      "cell_type": "markdown",
      "source": [
        "Wyznacznie średniego błędu przewidywanych wartości dla zbioru testowego. "
      ],
      "metadata": {
        "nteract": {
          "transient": {
            "deleting": false
          }
        }
      }
    },
    {
      "cell_type": "code",
      "source": [
        "from sklearn.metrics import mean_squared_error\n",
        "\n",
        "print('RMSE:')\n",
        "print(mean_squared_error(y_test_df, y_predictions))\n",
        "\n",
        "acc = 0\n",
        "counter = 0\n",
        "for i, column in enumerate(y_predictions):\n",
        "    if round(column) == y_test_df[i]:\n",
        "        acc += 1\n",
        "    counter += 1\n",
        "\n",
        "print('Acc:')\n",
        "print(acc/counter)"
      ],
      "outputs": [
        {
          "output_type": "stream",
          "name": "stdout",
          "text": [
            "RMSE:\n",
            "0.4389804726156803\n",
            "Acc:\n",
            "0.597948717948718\n"
          ]
        }
      ],
      "execution_count": 43,
      "metadata": {
        "collapsed": true,
        "jupyter": {
          "source_hidden": false,
          "outputs_hidden": false
        },
        "nteract": {
          "transient": {
            "deleting": false
          }
        },
        "gather": {
          "logged": 1611696688907
        }
      }
    },
    {
      "cell_type": "markdown",
      "source": [
        "Średni wynik błędu to ok. 0,44 biorąc pod uwagę, a ułamek porawnie wyznaczonych ocen po zaokrągleniu przewidywań to 0,6. Z uwagi, że skala jest 0 do 10 a podziałka to 1, to znaczy, że zdecydwana większość wyników z 40 błędnie wyznaczonych ocen nie myliła się o więcej niż 1."
      ],
      "metadata": {
        "nteract": {
          "transient": {
            "deleting": false
          }
        }
      }
    },
    {
      "cell_type": "markdown",
      "source": [
        "Wnioski z laboratorium:\n",
        "* bardzo wygodne narzędzie pod kątem tego, że często architekt ML musi wykazać się dużą intuicją na temat architektury i algorytmów uczących a tu bardzo szybko prorównywane jest kilka algorytmów\n",
        "* jednak bardzo dużym minusem jest bardzo słabo rozwinięty typ danych TabularDataset, w zasadzie poza funckją drop nie ma żadnych operacji na danych co byłoby bardzo przydatne, a konwersja z DF z biblioteki pandas jest na etapie eksperymentalnym i w zasadzie nie działa "
      ],
      "metadata": {
        "nteract": {
          "transient": {
            "deleting": false
          }
        }
      }
    }
  ],
  "metadata": {
    "kernelspec": {
      "name": "python3-azureml",
      "language": "python",
      "display_name": "Python 3.6 - AzureML"
    },
    "language_info": {
      "name": "python",
      "version": "3.6.9",
      "mimetype": "text/x-python",
      "codemirror_mode": {
        "name": "ipython",
        "version": 3
      },
      "pygments_lexer": "ipython3",
      "nbconvert_exporter": "python",
      "file_extension": ".py"
    },
    "kernel_info": {
      "name": "python3-azureml"
    },
    "nteract": {
      "version": "nteract-front-end@1.0.0"
    }
  },
  "nbformat": 4,
  "nbformat_minor": 2
}